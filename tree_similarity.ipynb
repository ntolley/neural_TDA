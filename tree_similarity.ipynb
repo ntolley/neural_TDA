{
 "nbformat": 4,
 "nbformat_minor": 2,
 "metadata": {
  "language_info": {
   "name": "python",
   "codemirror_mode": {
    "name": "ipython",
    "version": 3
   },
   "version": "3.7.4-final"
  },
  "orig_nbformat": 2,
  "file_extension": ".py",
  "mimetype": "text/x-python",
  "name": "python",
  "npconvert_exporter": "python",
  "pygments_lexer": "ipython3",
  "version": 3,
  "kernelspec": {
   "name": "python3",
   "display_name": "Python 3"
  }
 },
 "cells": [
  {
   "cell_type": "markdown",
   "metadata": {},
   "source": [
    "# Reeb Graph Matching\n",
    "#### Implementing 'Topology Matching for Fully Automatic Similarity Estimation of 3D Shapes'\n",
    "#### http://graphics.stanford.edu/courses/cs468-08-fall/pdf/Hilaga01.pdf\n",
    "#### (Hilaga et al., 2001)"
   ]
  },
  {
   "cell_type": "code",
   "execution_count": 47,
   "metadata": {},
   "outputs": [],
   "source": [
    "import numpy as np\n",
    "import os\n",
    "from os.path import isfile, join\n",
    "from os import listdir\n",
    "from mpl_toolkits import mplot3d\n",
    "import matplotlib.pyplot as plt\n",
    "import seaborn as sns\n",
    "import pandas as pd\n",
    "import csd_functions\n",
    "import scipy\n",
    "import networkx as nx\n",
    "sns.set()\n",
    ""
   ]
  },
  {
   "cell_type": "markdown",
   "metadata": {},
   "source": [
    "Load tree data"
   ]
  },
  {
   "cell_type": "code",
   "execution_count": 2,
   "metadata": {},
   "outputs": [],
   "source": [
    "prefix = 'input_strength032320'\n",
    "node_points, node_connectivity, node_color = csd_functions.load_tree(prefix)"
   ]
  },
  {
   "cell_type": "markdown",
   "metadata": {},
   "source": [
    "Plot unprocessed critical point data"
   ]
  },
  {
   "cell_type": "code",
   "execution_count": 7,
   "metadata": {},
   "outputs": [
    {
     "output_type": "execute_result",
     "data": {
      "text/plain": "<mpl_toolkits.mplot3d.art3d.Path3DCollection at 0x15579138688>"
     },
     "metadata": {},
     "execution_count": 7
    }
   ],
   "source": [
    "%matplotlib qt\n",
    "fig = plt.figure(figsize = (8,6))\n",
    "ax = plt.axes(projection='3d')\n",
    "\n",
    "num_pairs = node_connectivity.shape[0]\n",
    "for pair in range(num_pairs):\n",
    "    pairID = node_connectivity[pair]\n",
    "    pairID\n",
    "    xdata, ydata, zdata = node_points[pairID, 0], node_points[pairID, 1], node_points[pairID, 2]\n",
    "\n",
    "    ax.plot(xdata,ydata,zdata, 'k', linewidth=0.2)\n",
    "\n",
    "num_points = node_points.shape[0]\n",
    "ax.scatter(node_points[:, 0], node_points[:, 1], node_points[:, 2], 'b')\n",
    "\n",
    "plt.show()"
   ]
  },
  {
   "cell_type": "markdown",
   "metadata": {},
   "source": [
    "Resample tree to fit inside range"
   ]
  },
  {
   "cell_type": "code",
   "execution_count": 114,
   "metadata": {},
   "outputs": [],
   "source": [
    "min_elevation, max_elevation = min(node_points[:,2]), max(node_points[:,2])\n",
    "node_differences = np.sort(np.diff(np.sort(node_points[:,2]))) #Sorted list of height difference bettwen all nodes\n",
    "\n",
    "#Number of level sets for reeb graph\n",
    "num_intervals = 30\n",
    "interval_width = (max_elevation-min_elevation)/(num_intervals-1)\n",
    "low, high = min_elevation - (interval_width/2), max_elevation + (interval_width/2)\n",
    "\n",
    "#Centers the minimum and maximum nodes at the min and max intervals\n",
    "interval_bound = [[low + interval_width*pos, low + interval_width*(pos+1)] for pos in range(num_intervals)]\n",
    "interval_points = np.array([low + interval_width*pos for pos in range(num_intervals+1)])\n",
    "\n"
   ]
  },
  {
   "cell_type": "code",
   "execution_count": 123,
   "metadata": {},
   "outputs": [
    {
     "output_type": "execute_result",
     "data": {
      "text/plain": "[5]"
     },
     "metadata": {},
     "execution_count": 123
    }
   ],
   "source": [
    "# print(interval_points < -0.5)\n",
    "# print(np.sum(interval_points < -0.5))\n",
    "# print(interval_points)\n",
    "list([5])"
   ]
  },
  {
   "cell_type": "code",
   "execution_count": null,
   "metadata": {},
   "outputs": [],
   "source": [
    "# adds or removes nodes based on interval\n",
    "def edge_edit(B, start_node, end_node, interval_points):\n",
    "\n",
    "    #Height of current node\n",
    "    start_val = B.nodes[start_node]['Position'][2]\n",
    "    end_val = B.nodes[end_node]['Position'][2]\n",
    "\n",
    "    #Upper bound index for the start and ending node heights\n",
    "    start_bound_idx, end_bound_idx = np.sum(interval_points < start_val), np.sum(interval_points < end_val)\n",
    "\n",
    "    #Update node positions to center of interval\n",
    "    B.nodes[start_node]['Position'][2] == np.mean(interval_points[start_bound_idx-1:start_bound_idx])\n",
    "    B.nodes[end_node]['Position'][2] == np.mean(interval_points[end_bound_idx-1:end_bound_idx])\n",
    "\n",
    "    #Represents how many intervals the edge spans\n",
    "    bound_diff = abs(start_bound_idx - end_bound_idx)\n",
    "\n",
    "    #Edge spans exactly 1 bound as desired, update node position and return\n",
    "    if bound_diff == 1:\n",
    "\n",
    "        return\n",
    "\n",
    "    #Connected nodes in same interval, merge together and update attribute dictionary\n",
    "    elif bound_diff == 0:\n",
    "        #End node gets deleted\n",
    "        B = nx.contracted_edge(B,[start_node,end_node])\n",
    "        B.nodes[start_node]['Merged'].append(end_node)\n",
    "        return\n",
    "\n",
    "    #Edge spans more than one interval, subdivide\n",
    "    elif bound_diff > 1:\n",
    "\n",
    "\n",
    "        return\n",
    "\n",
    "\n",
    "    \n",
    "\n",
    "\n",
    "\n",
    "\n",
    "#Recursive function that goes through all edges \n",
    "def graph_search(A, start, interval_points):\n",
    "    if A.nodes[start]['Visited'] == 1:\n",
    "        return\n",
    "    else:\n",
    "        neighbors = list(A.neighbors(start))\n",
    "\n",
    "        #Insert or remove nodes based on interval position\n",
    "        for neighbor_id in neighbors:\n",
    "            edge_edit(A, start, neighbor_id, interval_points)\n",
    "\n",
    "\n",
    "        A.nodes[start]['Visited'] = 1\n",
    "        \n",
    "\n"
   ]
  },
  {
   "cell_type": "code",
   "execution_count": 112,
   "metadata": {},
   "outputs": [
    {
     "output_type": "execute_result",
     "data": {
      "text/plain": "-0.862648"
     },
     "metadata": {},
     "execution_count": 112
    }
   ],
   "source": [
    "G = nx.Graph()\n",
    "G.add_edges_from(node_connectivity)\n",
    "\n",
    "node_attributes = {node_id : {'Position' : node_points[node_id,:], 'Visted' : 0, 'Merged':[],'Inserted':[]} for node_id in list(G.nodes)}\n",
    "nx.set_node_attributes(G,node_attributes)\n",
    "\n",
    "edge_list = list(G.edges)\n"
   ]
  },
  {
   "cell_type": "code",
   "execution_count": 57,
   "metadata": {},
   "outputs": [
    {
     "output_type": "display_data",
     "data": {
      "text/plain": "<Figure size 432x288 with 1 Axes>",
      "image/svg+xml": "<?xml version=\"1.0\" encoding=\"utf-8\" standalone=\"no\"?>\r\n<!DOCTYPE svg PUBLIC \"-//W3C//DTD SVG 1.1//EN\"\r\n  \"http://www.w3.org/Graphics/SVG/1.1/DTD/svg11.dtd\">\r\n<!-- Created with matplotlib (https://matplotlib.org/) -->\r\n<svg height=\"302.4pt\" version=\"1.1\" viewBox=\"0 0 446.4 302.4\" width=\"446.4pt\" xmlns=\"http://www.w3.org/2000/svg\" xmlns:xlink=\"http://www.w3.org/1999/xlink\">\r\n <defs>\r\n  <style type=\"text/css\">\r\n*{stroke-linecap:butt;stroke-linejoin:round;}\r\n  </style>\r\n </defs>\r\n <g id=\"figure_1\">\r\n  <g id=\"patch_1\">\r\n   <path d=\"M 0 302.4 \r\nL 446.4 302.4 \r\nL 446.4 0 \r\nL 0 0 \r\nz\r\n\" style=\"fill:#ffffff;\"/>\r\n  </g>\r\n  <g id=\"axes_1\">\r\n   <g id=\"LineCollection_1\">\r\n    <path clip-path=\"url(#pbc0046f3ed)\" d=\"M 31.444275 189.63256 \r\nL 198.668475 184.982328 \r\n\" style=\"fill:none;stroke:#1a1a1a;\"/>\r\n    <path clip-path=\"url(#pbc0046f3ed)\" d=\"M 198.668475 184.982328 \r\nL 234.976484 278.172282 \r\n\" style=\"fill:none;stroke:#1a1a1a;\"/>\r\n    <path clip-path=\"url(#pbc0046f3ed)\" d=\"M 198.668475 184.982328 \r\nL 314.88769 98.723978 \r\n\" style=\"fill:none;stroke:#1a1a1a;\"/>\r\n    <path clip-path=\"url(#pbc0046f3ed)\" d=\"M 314.88769 98.723978 \r\nL 414.955725 24.227718 \r\n\" style=\"fill:none;stroke:#1a1a1a;\"/>\r\n   </g>\r\n   <g id=\"PathCollection_1\">\r\n    <defs>\r\n     <path d=\"M 0 8.660254 \r\nC 2.296726 8.660254 4.499694 7.747755 6.123724 6.123724 \r\nC 7.747755 4.499694 8.660254 2.296726 8.660254 0 \r\nC 8.660254 -2.296726 7.747755 -4.499694 6.123724 -6.123724 \r\nC 4.499694 -7.747755 2.296726 -8.660254 0 -8.660254 \r\nC -2.296726 -8.660254 -4.499694 -7.747755 -6.123724 -6.123724 \r\nC -7.747755 -4.499694 -8.660254 -2.296726 -8.660254 0 \r\nC -8.660254 2.296726 -7.747755 4.499694 -6.123724 6.123724 \r\nC -4.499694 7.747755 -2.296726 8.660254 0 8.660254 \r\nz\r\n\" id=\"m44a6cea04c\" style=\"stroke:#1f78b4;\"/>\r\n    </defs>\r\n    <g clip-path=\"url(#pbc0046f3ed)\">\r\n     <use style=\"fill:#1f78b4;stroke:#1f78b4;\" x=\"31.444275\" xlink:href=\"#m44a6cea04c\" y=\"189.63256\"/>\r\n     <use style=\"fill:#1f78b4;stroke:#1f78b4;\" x=\"198.668475\" xlink:href=\"#m44a6cea04c\" y=\"184.982328\"/>\r\n     <use style=\"fill:#1f78b4;stroke:#1f78b4;\" x=\"234.976484\" xlink:href=\"#m44a6cea04c\" y=\"278.172282\"/>\r\n     <use style=\"fill:#1f78b4;stroke:#1f78b4;\" x=\"314.88769\" xlink:href=\"#m44a6cea04c\" y=\"98.723978\"/>\r\n     <use style=\"fill:#1f78b4;stroke:#1f78b4;\" x=\"414.955725\" xlink:href=\"#m44a6cea04c\" y=\"24.227718\"/>\r\n    </g>\r\n   </g>\r\n   <g id=\"text_1\">\r\n    <g clip-path=\"url(#pbc0046f3ed)\">\r\n     <!-- 0 -->\r\n     <defs>\r\n      <path d=\"M 4.15625 35.296875 \r\nQ 4.15625 48 6.765625 55.734375 \r\nQ 9.375 63.484375 14.515625 67.671875 \r\nQ 19.671875 71.875 27.484375 71.875 \r\nQ 33.25 71.875 37.59375 69.546875 \r\nQ 41.9375 67.234375 44.765625 62.859375 \r\nQ 47.609375 58.5 49.21875 52.21875 \r\nQ 50.828125 45.953125 50.828125 35.296875 \r\nQ 50.828125 22.703125 48.234375 14.96875 \r\nQ 45.65625 7.234375 40.5 3 \r\nQ 35.359375 -1.21875 27.484375 -1.21875 \r\nQ 17.140625 -1.21875 11.234375 6.203125 \r\nQ 4.15625 15.140625 4.15625 35.296875 \r\nz\r\nM 13.1875 35.296875 \r\nQ 13.1875 17.671875 17.3125 11.828125 \r\nQ 21.4375 6 27.484375 6 \r\nQ 33.546875 6 37.671875 11.859375 \r\nQ 41.796875 17.71875 41.796875 35.296875 \r\nQ 41.796875 52.984375 37.671875 58.78125 \r\nQ 33.546875 64.59375 27.390625 64.59375 \r\nQ 21.34375 64.59375 17.71875 59.46875 \r\nQ 13.1875 52.9375 13.1875 35.296875 \r\nz\r\n\" id=\"ArialMT-48\"/>\r\n     </defs>\r\n     <g style=\"fill:#1a1a1a;\" transform=\"translate(28.107712 192.734747)scale(0.12 -0.12)\">\r\n      <use xlink:href=\"#ArialMT-48\"/>\r\n     </g>\r\n    </g>\r\n   </g>\r\n   <g id=\"text_2\">\r\n    <g clip-path=\"url(#pbc0046f3ed)\">\r\n     <!-- 1 -->\r\n     <defs>\r\n      <path d=\"M 37.25 0 \r\nL 28.46875 0 \r\nL 28.46875 56 \r\nQ 25.296875 52.984375 20.140625 49.953125 \r\nQ 14.984375 46.921875 10.890625 45.40625 \r\nL 10.890625 53.90625 \r\nQ 18.265625 57.375 23.78125 62.296875 \r\nQ 29.296875 67.234375 31.59375 71.875 \r\nL 37.25 71.875 \r\nz\r\n\" id=\"ArialMT-49\"/>\r\n     </defs>\r\n     <g style=\"fill:#1a1a1a;\" transform=\"translate(195.331913 188.084515)scale(0.12 -0.12)\">\r\n      <use xlink:href=\"#ArialMT-49\"/>\r\n     </g>\r\n    </g>\r\n   </g>\r\n   <g id=\"text_3\">\r\n    <g clip-path=\"url(#pbc0046f3ed)\">\r\n     <!-- 2 -->\r\n     <defs>\r\n      <path d=\"M 50.34375 8.453125 \r\nL 50.34375 0 \r\nL 3.03125 0 \r\nQ 2.9375 3.171875 4.046875 6.109375 \r\nQ 5.859375 10.9375 9.828125 15.625 \r\nQ 13.8125 20.3125 21.34375 26.46875 \r\nQ 33.015625 36.03125 37.109375 41.625 \r\nQ 41.21875 47.21875 41.21875 52.203125 \r\nQ 41.21875 57.421875 37.46875 61 \r\nQ 33.734375 64.59375 27.734375 64.59375 \r\nQ 21.390625 64.59375 17.578125 60.78125 \r\nQ 13.765625 56.984375 13.71875 50.25 \r\nL 4.6875 51.171875 \r\nQ 5.609375 61.28125 11.65625 66.578125 \r\nQ 17.71875 71.875 27.9375 71.875 \r\nQ 38.234375 71.875 44.234375 66.15625 \r\nQ 50.25 60.453125 50.25 52 \r\nQ 50.25 47.703125 48.484375 43.546875 \r\nQ 46.734375 39.40625 42.65625 34.8125 \r\nQ 38.578125 30.21875 29.109375 22.21875 \r\nQ 21.1875 15.578125 18.9375 13.203125 \r\nQ 16.703125 10.84375 15.234375 8.453125 \r\nz\r\n\" id=\"ArialMT-50\"/>\r\n     </defs>\r\n     <g style=\"fill:#1a1a1a;\" transform=\"translate(231.639921 281.27447)scale(0.12 -0.12)\">\r\n      <use xlink:href=\"#ArialMT-50\"/>\r\n     </g>\r\n    </g>\r\n   </g>\r\n   <g id=\"text_4\">\r\n    <g clip-path=\"url(#pbc0046f3ed)\">\r\n     <!-- 3 -->\r\n     <defs>\r\n      <path d=\"M 4.203125 18.890625 \r\nL 12.984375 20.0625 \r\nQ 14.5 12.59375 18.140625 9.296875 \r\nQ 21.78125 6 27 6 \r\nQ 33.203125 6 37.46875 10.296875 \r\nQ 41.75 14.59375 41.75 20.953125 \r\nQ 41.75 27 37.796875 30.921875 \r\nQ 33.84375 34.859375 27.734375 34.859375 \r\nQ 25.25 34.859375 21.53125 33.890625 \r\nL 22.515625 41.609375 \r\nQ 23.390625 41.5 23.921875 41.5 \r\nQ 29.546875 41.5 34.03125 44.421875 \r\nQ 38.53125 47.359375 38.53125 53.46875 \r\nQ 38.53125 58.296875 35.25 61.46875 \r\nQ 31.984375 64.65625 26.8125 64.65625 \r\nQ 21.6875 64.65625 18.265625 61.421875 \r\nQ 14.84375 58.203125 13.875 51.765625 \r\nL 5.078125 53.328125 \r\nQ 6.6875 62.15625 12.390625 67.015625 \r\nQ 18.109375 71.875 26.609375 71.875 \r\nQ 32.46875 71.875 37.390625 69.359375 \r\nQ 42.328125 66.84375 44.9375 62.5 \r\nQ 47.5625 58.15625 47.5625 53.265625 \r\nQ 47.5625 48.640625 45.0625 44.828125 \r\nQ 42.578125 41.015625 37.703125 38.765625 \r\nQ 44.046875 37.3125 47.5625 32.6875 \r\nQ 51.078125 28.078125 51.078125 21.140625 \r\nQ 51.078125 11.765625 44.234375 5.25 \r\nQ 37.40625 -1.265625 26.953125 -1.265625 \r\nQ 17.53125 -1.265625 11.296875 4.34375 \r\nQ 5.078125 9.96875 4.203125 18.890625 \r\nz\r\n\" id=\"ArialMT-51\"/>\r\n     </defs>\r\n     <g style=\"fill:#1a1a1a;\" transform=\"translate(311.551127 101.826165)scale(0.12 -0.12)\">\r\n      <use xlink:href=\"#ArialMT-51\"/>\r\n     </g>\r\n    </g>\r\n   </g>\r\n   <g id=\"text_5\">\r\n    <g clip-path=\"url(#pbc0046f3ed)\">\r\n     <!-- 4 -->\r\n     <defs>\r\n      <path d=\"M 32.328125 0 \r\nL 32.328125 17.140625 \r\nL 1.265625 17.140625 \r\nL 1.265625 25.203125 \r\nL 33.9375 71.578125 \r\nL 41.109375 71.578125 \r\nL 41.109375 25.203125 \r\nL 50.78125 25.203125 \r\nL 50.78125 17.140625 \r\nL 41.109375 17.140625 \r\nL 41.109375 0 \r\nz\r\nM 32.328125 25.203125 \r\nL 32.328125 57.46875 \r\nL 9.90625 25.203125 \r\nz\r\n\" id=\"ArialMT-52\"/>\r\n     </defs>\r\n     <g style=\"fill:#1a1a1a;\" transform=\"translate(411.619163 27.329905)scale(0.12 -0.12)\">\r\n      <use xlink:href=\"#ArialMT-52\"/>\r\n     </g>\r\n    </g>\r\n   </g>\r\n  </g>\r\n </g>\r\n <defs>\r\n  <clipPath id=\"pbc0046f3ed\">\r\n   <rect height=\"288\" width=\"432\" x=\"7.2\" y=\"7.2\"/>\r\n  </clipPath>\r\n </defs>\r\n</svg>\r\n",
      "image/png": "[encoded data removed]"
     },
     "metadata": {}
    }
   ],
   "source": [
    "plt.figure()\n",
    "A = nx.Graph()\n",
    "A.add_edges_from(np.array([[0,1],[1,2],[1,3], [3,4]]))\n",
    "nx.draw(A,with_labels = True)"
   ]
  },
  {
   "cell_type": "code",
   "execution_count": 128,
   "metadata": {},
   "outputs": [
    {
     "output_type": "display_data",
     "data": {
      "text/plain": "<Figure size 432x288 with 1 Axes>",
      "image/svg+xml": "<?xml version=\"1.0\" encoding=\"utf-8\" standalone=\"no\"?>\r\n<!DOCTYPE svg PUBLIC \"-//W3C//DTD SVG 1.1//EN\"\r\n  \"http://www.w3.org/Graphics/SVG/1.1/DTD/svg11.dtd\">\r\n<!-- Created with matplotlib (https://matplotlib.org/) -->\r\n<svg height=\"302.4pt\" version=\"1.1\" viewBox=\"0 0 446.4 302.4\" width=\"446.4pt\" xmlns=\"http://www.w3.org/2000/svg\" xmlns:xlink=\"http://www.w3.org/1999/xlink\">\r\n <defs>\r\n  <style type=\"text/css\">\r\n*{stroke-linecap:butt;stroke-linejoin:round;}\r\n  </style>\r\n </defs>\r\n <g id=\"figure_1\">\r\n  <g id=\"patch_1\">\r\n   <path d=\"M 0 302.4 \r\nL 446.4 302.4 \r\nL 446.4 0 \r\nL 0 0 \r\nz\r\n\" style=\"fill:#ffffff;\"/>\r\n  </g>\r\n  <g id=\"axes_1\">\r\n   <g id=\"LineCollection_1\">\r\n    <path clip-path=\"url(#p3f1b3cd67c)\" d=\"M 30.696656 29.812939 \r\nL 154.785173 108.052007 \r\n\" style=\"fill:none;stroke:#1a1a1a;\"/>\r\n    <path clip-path=\"url(#p3f1b3cd67c)\" d=\"M 291.375342 194.182087 \r\nL 415.703344 272.587061 \r\n\" style=\"fill:none;stroke:#1a1a1a;\"/>\r\n    <path clip-path=\"url(#p3f1b3cd67c)\" d=\"M 291.375342 194.182087 \r\nL 154.785173 108.052007 \r\n\" style=\"fill:none;stroke:#1a1a1a;\"/>\r\n    <path clip-path=\"url(#p3f1b3cd67c)\" d=\"M 154.785173 108.052007 \r\nL 154.785173 108.052007 \r\n\" style=\"fill:none;stroke:#1a1a1a;\"/>\r\n   </g>\r\n   <g id=\"PathCollection_1\">\r\n    <defs>\r\n     <path d=\"M 0 8.660254 \r\nC 2.296726 8.660254 4.499694 7.747755 6.123724 6.123724 \r\nC 7.747755 4.499694 8.660254 2.296726 8.660254 0 \r\nC 8.660254 -2.296726 7.747755 -4.499694 6.123724 -6.123724 \r\nC 4.499694 -7.747755 2.296726 -8.660254 0 -8.660254 \r\nC -2.296726 -8.660254 -4.499694 -7.747755 -6.123724 -6.123724 \r\nC -7.747755 -4.499694 -8.660254 -2.296726 -8.660254 0 \r\nC -8.660254 2.296726 -7.747755 4.499694 -6.123724 6.123724 \r\nC -4.499694 7.747755 -2.296726 8.660254 0 8.660254 \r\nz\r\n\" id=\"mabc9fb016e\" style=\"stroke:#1f78b4;\"/>\r\n    </defs>\r\n    <g clip-path=\"url(#p3f1b3cd67c)\">\r\n     <use style=\"fill:#1f78b4;stroke:#1f78b4;\" x=\"30.696656\" xlink:href=\"#mabc9fb016e\" y=\"29.812939\"/>\r\n     <use style=\"fill:#1f78b4;stroke:#1f78b4;\" x=\"291.375342\" xlink:href=\"#mabc9fb016e\" y=\"194.182087\"/>\r\n     <use style=\"fill:#1f78b4;stroke:#1f78b4;\" x=\"415.703344\" xlink:href=\"#mabc9fb016e\" y=\"272.587061\"/>\r\n     <use style=\"fill:#1f78b4;stroke:#1f78b4;\" x=\"154.785173\" xlink:href=\"#mabc9fb016e\" y=\"108.052007\"/>\r\n    </g>\r\n   </g>\r\n   <g id=\"text_1\">\r\n    <g clip-path=\"url(#p3f1b3cd67c)\">\r\n     <!-- 0 -->\r\n     <defs>\r\n      <path d=\"M 4.15625 35.296875 \r\nQ 4.15625 48 6.765625 55.734375 \r\nQ 9.375 63.484375 14.515625 67.671875 \r\nQ 19.671875 71.875 27.484375 71.875 \r\nQ 33.25 71.875 37.59375 69.546875 \r\nQ 41.9375 67.234375 44.765625 62.859375 \r\nQ 47.609375 58.5 49.21875 52.21875 \r\nQ 50.828125 45.953125 50.828125 35.296875 \r\nQ 50.828125 22.703125 48.234375 14.96875 \r\nQ 45.65625 7.234375 40.5 3 \r\nQ 35.359375 -1.21875 27.484375 -1.21875 \r\nQ 17.140625 -1.21875 11.234375 6.203125 \r\nQ 4.15625 15.140625 4.15625 35.296875 \r\nz\r\nM 13.1875 35.296875 \r\nQ 13.1875 17.671875 17.3125 11.828125 \r\nQ 21.4375 6 27.484375 6 \r\nQ 33.546875 6 37.671875 11.859375 \r\nQ 41.796875 17.71875 41.796875 35.296875 \r\nQ 41.796875 52.984375 37.671875 58.78125 \r\nQ 33.546875 64.59375 27.390625 64.59375 \r\nQ 21.34375 64.59375 17.71875 59.46875 \r\nQ 13.1875 52.9375 13.1875 35.296875 \r\nz\r\n\" id=\"ArialMT-48\"/>\r\n     </defs>\r\n     <g style=\"fill:#1a1a1a;\" transform=\"translate(27.360094 32.915126)scale(0.12 -0.12)\">\r\n      <use xlink:href=\"#ArialMT-48\"/>\r\n     </g>\r\n    </g>\r\n   </g>\r\n   <g id=\"text_2\">\r\n    <g clip-path=\"url(#p3f1b3cd67c)\">\r\n     <!-- 3 -->\r\n     <defs>\r\n      <path d=\"M 4.203125 18.890625 \r\nL 12.984375 20.0625 \r\nQ 14.5 12.59375 18.140625 9.296875 \r\nQ 21.78125 6 27 6 \r\nQ 33.203125 6 37.46875 10.296875 \r\nQ 41.75 14.59375 41.75 20.953125 \r\nQ 41.75 27 37.796875 30.921875 \r\nQ 33.84375 34.859375 27.734375 34.859375 \r\nQ 25.25 34.859375 21.53125 33.890625 \r\nL 22.515625 41.609375 \r\nQ 23.390625 41.5 23.921875 41.5 \r\nQ 29.546875 41.5 34.03125 44.421875 \r\nQ 38.53125 47.359375 38.53125 53.46875 \r\nQ 38.53125 58.296875 35.25 61.46875 \r\nQ 31.984375 64.65625 26.8125 64.65625 \r\nQ 21.6875 64.65625 18.265625 61.421875 \r\nQ 14.84375 58.203125 13.875 51.765625 \r\nL 5.078125 53.328125 \r\nQ 6.6875 62.15625 12.390625 67.015625 \r\nQ 18.109375 71.875 26.609375 71.875 \r\nQ 32.46875 71.875 37.390625 69.359375 \r\nQ 42.328125 66.84375 44.9375 62.5 \r\nQ 47.5625 58.15625 47.5625 53.265625 \r\nQ 47.5625 48.640625 45.0625 44.828125 \r\nQ 42.578125 41.015625 37.703125 38.765625 \r\nQ 44.046875 37.3125 47.5625 32.6875 \r\nQ 51.078125 28.078125 51.078125 21.140625 \r\nQ 51.078125 11.765625 44.234375 5.25 \r\nQ 37.40625 -1.265625 26.953125 -1.265625 \r\nQ 17.53125 -1.265625 11.296875 4.34375 \r\nQ 5.078125 9.96875 4.203125 18.890625 \r\nz\r\n\" id=\"ArialMT-51\"/>\r\n     </defs>\r\n     <g style=\"fill:#1a1a1a;\" transform=\"translate(288.038779 197.284274)scale(0.12 -0.12)\">\r\n      <use xlink:href=\"#ArialMT-51\"/>\r\n     </g>\r\n    </g>\r\n   </g>\r\n   <g id=\"text_3\">\r\n    <g clip-path=\"url(#p3f1b3cd67c)\">\r\n     <!-- 4 -->\r\n     <defs>\r\n      <path d=\"M 32.328125 0 \r\nL 32.328125 17.140625 \r\nL 1.265625 17.140625 \r\nL 1.265625 25.203125 \r\nL 33.9375 71.578125 \r\nL 41.109375 71.578125 \r\nL 41.109375 25.203125 \r\nL 50.78125 25.203125 \r\nL 50.78125 17.140625 \r\nL 41.109375 17.140625 \r\nL 41.109375 0 \r\nz\r\nM 32.328125 25.203125 \r\nL 32.328125 57.46875 \r\nL 9.90625 25.203125 \r\nz\r\n\" id=\"ArialMT-52\"/>\r\n     </defs>\r\n     <g style=\"fill:#1a1a1a;\" transform=\"translate(412.366781 275.689249)scale(0.12 -0.12)\">\r\n      <use xlink:href=\"#ArialMT-52\"/>\r\n     </g>\r\n    </g>\r\n   </g>\r\n   <g id=\"text_4\">\r\n    <g clip-path=\"url(#p3f1b3cd67c)\">\r\n     <!-- (2, 1) -->\r\n     <defs>\r\n      <path d=\"M 23.390625 -21.046875 \r\nQ 16.109375 -11.859375 11.078125 0.4375 \r\nQ 6.0625 12.75 6.0625 25.921875 \r\nQ 6.0625 37.546875 9.8125 48.1875 \r\nQ 14.203125 60.546875 23.390625 72.796875 \r\nL 29.6875 72.796875 \r\nQ 23.78125 62.640625 21.875 58.296875 \r\nQ 18.890625 51.5625 17.1875 44.234375 \r\nQ 15.09375 35.109375 15.09375 25.875 \r\nQ 15.09375 2.390625 29.6875 -21.046875 \r\nz\r\n\" id=\"ArialMT-40\"/>\r\n      <path d=\"M 50.34375 8.453125 \r\nL 50.34375 0 \r\nL 3.03125 0 \r\nQ 2.9375 3.171875 4.046875 6.109375 \r\nQ 5.859375 10.9375 9.828125 15.625 \r\nQ 13.8125 20.3125 21.34375 26.46875 \r\nQ 33.015625 36.03125 37.109375 41.625 \r\nQ 41.21875 47.21875 41.21875 52.203125 \r\nQ 41.21875 57.421875 37.46875 61 \r\nQ 33.734375 64.59375 27.734375 64.59375 \r\nQ 21.390625 64.59375 17.578125 60.78125 \r\nQ 13.765625 56.984375 13.71875 50.25 \r\nL 4.6875 51.171875 \r\nQ 5.609375 61.28125 11.65625 66.578125 \r\nQ 17.71875 71.875 27.9375 71.875 \r\nQ 38.234375 71.875 44.234375 66.15625 \r\nQ 50.25 60.453125 50.25 52 \r\nQ 50.25 47.703125 48.484375 43.546875 \r\nQ 46.734375 39.40625 42.65625 34.8125 \r\nQ 38.578125 30.21875 29.109375 22.21875 \r\nQ 21.1875 15.578125 18.9375 13.203125 \r\nQ 16.703125 10.84375 15.234375 8.453125 \r\nz\r\n\" id=\"ArialMT-50\"/>\r\n      <path d=\"M 8.890625 0 \r\nL 8.890625 10.015625 \r\nL 18.890625 10.015625 \r\nL 18.890625 0 \r\nQ 18.890625 -5.515625 16.9375 -8.90625 \r\nQ 14.984375 -12.3125 10.75 -14.15625 \r\nL 8.296875 -10.40625 \r\nQ 11.078125 -9.1875 12.390625 -6.8125 \r\nQ 13.71875 -4.4375 13.875 0 \r\nz\r\n\" id=\"ArialMT-44\"/>\r\n      <path id=\"ArialMT-32\"/>\r\n      <path d=\"M 37.25 0 \r\nL 28.46875 0 \r\nL 28.46875 56 \r\nQ 25.296875 52.984375 20.140625 49.953125 \r\nQ 14.984375 46.921875 10.890625 45.40625 \r\nL 10.890625 53.90625 \r\nQ 18.265625 57.375 23.78125 62.296875 \r\nQ 29.296875 67.234375 31.59375 71.875 \r\nL 37.25 71.875 \r\nz\r\n\" id=\"ArialMT-49\"/>\r\n      <path d=\"M 12.359375 -21.046875 \r\nL 6.0625 -21.046875 \r\nQ 20.65625 2.390625 20.65625 25.875 \r\nQ 20.65625 35.0625 18.5625 44.09375 \r\nQ 16.890625 51.421875 13.921875 58.15625 \r\nQ 12.015625 62.546875 6.0625 72.796875 \r\nL 12.359375 72.796875 \r\nQ 21.53125 60.546875 25.921875 48.1875 \r\nQ 29.6875 37.546875 29.6875 25.921875 \r\nQ 29.6875 12.75 24.625 0.4375 \r\nQ 19.578125 -11.859375 12.359375 -21.046875 \r\nz\r\n\" id=\"ArialMT-41\"/>\r\n     </defs>\r\n     <g style=\"fill:#1a1a1a;\" transform=\"translate(140.782673 111.157007)scale(0.12 -0.12)\">\r\n      <use xlink:href=\"#ArialMT-40\"/>\r\n      <use x=\"33.300781\" xlink:href=\"#ArialMT-50\"/>\r\n      <use x=\"88.916016\" xlink:href=\"#ArialMT-44\"/>\r\n      <use x=\"116.699219\" xlink:href=\"#ArialMT-32\"/>\r\n      <use x=\"144.482422\" xlink:href=\"#ArialMT-49\"/>\r\n      <use x=\"200.097656\" xlink:href=\"#ArialMT-41\"/>\r\n     </g>\r\n    </g>\r\n   </g>\r\n  </g>\r\n </g>\r\n <defs>\r\n  <clipPath id=\"p3f1b3cd67c\">\r\n   <rect height=\"288\" width=\"432\" x=\"7.2\" y=\"7.2\"/>\r\n  </clipPath>\r\n </defs>\r\n</svg>\r\n",
      "image/png": "[encoded data removed]"
     },
     "metadata": {}
    }
   ],
   "source": [
    "B = A.copy()\n",
    "edge_test = [2,1]\n",
    "B = nx.contracted_edge(B,edge_test)\n",
    "mapping = {edge_test[0]: tuple(edge_test)}\n",
    "nx.relabel_nodes(B, mapping=mapping, copy=False)\n",
    "nx.draw(B,with_labels=True)"
   ]
  },
  {
   "cell_type": "code",
   "execution_count": 126,
   "metadata": {},
   "outputs": [
    {
     "output_type": "stream",
     "name": "stdout",
     "text": "[(0, 1), (1, 2), (1, 3), (3, 4)]\n[(0, 1), (1, 2), (1, 3), (3, 4), (4, 5)]\n[0, 2, 3]\n"
    }
   ],
   "source": [
    "B = A.copy()\n",
    "def test_change(A):\n",
    "    A.add_edge(4,5)\n",
    "    return\n",
    "\n",
    "print(B.edges)\n",
    "test_change(B)\n",
    "print(B.edges)\n",
    "print(list(B.neighbors(1)))"
   ]
  },
  {
   "cell_type": "code",
   "execution_count": null,
   "metadata": {},
   "outputs": [],
   "source": []
  }
 ]
}