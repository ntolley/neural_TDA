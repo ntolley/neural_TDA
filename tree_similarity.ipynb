{
 "nbformat": 4,
 "nbformat_minor": 2,
 "metadata": {
  "language_info": {
   "name": "python",
   "codemirror_mode": {
    "name": "ipython",
    "version": 3
   },
   "version": "3.7.4-final"
  },
  "orig_nbformat": 2,
  "file_extension": ".py",
  "mimetype": "text/x-python",
  "name": "python",
  "npconvert_exporter": "python",
  "pygments_lexer": "ipython3",
  "version": 3,
  "kernelspec": {
   "name": "python3",
   "display_name": "Python 3"
  }
 },
 "cells": [
  {
   "cell_type": "markdown",
   "metadata": {},
   "source": [
    "# Reeb Graph Matching\n",
    "#### Implementing 'Topology Matching for Fully Automatic Similarity Estimation of 3D Shapes'\n",
    "#### http://graphics.stanford.edu/courses/cs468-08-fall/pdf/Hilaga01.pdf\n",
    "#### (Hilaga et al., 2001)"
   ]
  },
  {
   "cell_type": "code",
   "execution_count": 1,
   "metadata": {},
   "outputs": [],
   "source": [
    "import numpy as np\n",
    "import os\n",
    "from os.path import isfile, join\n",
    "from os import listdir\n",
    "from mpl_toolkits import mplot3d\n",
    "import matplotlib.pyplot as plt\n",
    "import seaborn as sns\n",
    "import pandas as pd\n",
    "import csd_functions\n",
    "import scipy\n",
    "import networkx as nx\n",
    "sns.set()\n",
    ""
   ]
  },
  {
   "cell_type": "markdown",
   "metadata": {},
   "source": [
    "Load tree data"
   ]
  },
  {
   "cell_type": "code",
   "execution_count": 2,
   "metadata": {},
   "outputs": [],
   "source": [
    "prefix = 'input_strength032320'\n",
    "node_points, node_connectivity, node_color = csd_functions.load_tree(prefix)"
   ]
  },
  {
   "cell_type": "markdown",
   "metadata": {},
   "source": [
    "Plot unprocessed critical point data"
   ]
  },
  {
   "cell_type": "code",
   "execution_count": 3,
   "metadata": {},
   "outputs": [],
   "source": [
    "%matplotlib qt\n",
    "fig = plt.figure(figsize = (8,6))\n",
    "ax = plt.axes(projection='3d')\n",
    "\n",
    "num_pairs = node_connectivity.shape[0]\n",
    "for pair in range(num_pairs):\n",
    "    pairID = node_connectivity[pair]\n",
    "    pairID\n",
    "    xdata, ydata, zdata = node_points[pairID, 0], node_points[pairID, 1], node_points[pairID, 2]\n",
    "\n",
    "    ax.plot(xdata,ydata,zdata, 'k', linewidth=0.2)\n",
    "\n",
    "num_points = node_points.shape[0]\n",
    "ax.scatter(node_points[:, 0], node_points[:, 1], node_points[:, 2], 'b')\n",
    "\n",
    "plt.show()"
   ]
  },
  {
   "cell_type": "markdown",
   "metadata": {},
   "source": [
    "Resample tree to fit inside range"
   ]
  },
  {
   "cell_type": "code",
   "execution_count": 114,
   "metadata": {},
   "outputs": [],
   "source": [
    "min_elevation, max_elevation = min(node_points[:,2]), max(node_points[:,2])\n",
    "node_differences = np.sort(np.diff(np.sort(node_points[:,2]))) #Sorted list of height difference bettwen all nodes\n",
    "\n",
    "#Number of level sets for reeb graph\n",
    "num_intervals = 30\n",
    "interval_width = (max_elevation-min_elevation)/(num_intervals-1)\n",
    "low, high = min_elevation - (interval_width/2), max_elevation + (interval_width/2)\n",
    "\n",
    "#Centers the minimum and maximum nodes at the min and max intervals\n",
    "interval_bound = [[low + interval_width*pos, low + interval_width*(pos+1)] for pos in range(num_intervals)]\n",
    "interval_points = np.array([low + interval_width*pos for pos in range(num_intervals+1)])\n",
    "\n"
   ]
  },
  {
   "cell_type": "code",
   "execution_count": 149,
   "metadata": {},
   "outputs": [],
   "source": [
    "# adds or removes nodes based on interval\n",
    "def edge_edit(B, start_node, end_node, interval_points):\n",
    "\n",
    "    #Height of current node\n",
    "    start_val = B.nodes[start_node]['Position'][2]\n",
    "    end_val = B.nodes[end_node]['Position'][2]\n",
    "\n",
    "    #Upper bound index for the start and ending node heights\n",
    "    start_bound_idx, end_bound_idx = np.sum(interval_points < start_val), np.sum(interval_points < end_val)\n",
    "\n",
    "    #Update node positions to center of interval\n",
    "    B.nodes[start_node]['Position'][2] == np.mean(interval_points[start_bound_idx-1:start_bound_idx]) #*** Speed up with computing interval width ***\n",
    "    B.nodes[end_node]['Position'][2] == np.mean(interval_points[end_bound_idx-1:end_bound_idx])\n",
    "\n",
    "    #Represents how many intervals the edge spans\n",
    "    bound_diff = abs(start_bound_idx - end_bound_idx)\n",
    "\n",
    "    #Edge spans exactly 1 bound as desired, update node position and return\n",
    "    if bound_diff == 1:\n",
    "\n",
    "        return\n",
    "\n",
    "    #Connected nodes in same interval, merge together and update attribute dictionary\n",
    "    elif bound_diff == 0:\n",
    "        #End node gets deleted\n",
    "        B = nx.contracted_edge(B,[start_node,end_node])\n",
    "        B.nodes[start_node]['Merged'].append(end_node)\n",
    "        return\n",
    "\n",
    "    #Edge spans more than one interval, subdivide\n",
    "    elif bound_diff > 1:\n",
    "        B.remove_edge([start_node, end_node])\n",
    "        \n",
    "        #Create new nodes with unique id's\n",
    "        num_insertions = bound_diff-1\n",
    "        max_node = max(list(B.nodes())) + 1 \n",
    "        new_nodes = [start_node] + list(range(max_node + 1, max_node + num_insertions)) + [end_node]\n",
    "        new_edges = [[new_nodes[i], new_nodes[i+1]] for i in range(new_nodes-1)]\n",
    "\n",
    "        #Update positions for new nodes\n",
    "        new_positions = [np.mean(interval_points[start_bound_idx-1 + i : start_bound_idx + i ]) for i in range(bound_diff+1)] \n",
    "        for node_idx in range(len(new_nodes)):\n",
    "            B.node[new_nodes[node_idx]]['Position'][2] = new_positions[node_idx]\n",
    "            B.node[new_nodes[node_idx]]['Inserted'].append(new_nodes)\n",
    "            B.node[new_nodes[node_idx]]['Visited'] = 1\n",
    "\n",
    "        #Insert connected nodes at center of interval\n",
    "        B.add_edges_from(new_edges)\n",
    "     \n",
    "\n",
    "        return\n"
   ]
  },
  {
   "cell_type": "code",
   "execution_count": 150,
   "metadata": {},
   "outputs": [],
   "source": [
    "#Recursive function that goes through all edges \n",
    "def graph_search(A, start, interval_points):\n",
    "    if A.nodes[start]['Visited'] == 1:\n",
    "        return\n",
    "    else:\n",
    "        A.nodes[start]['Visited'] = 1\n",
    "        neighbors = list(A.neighbors(start))\n",
    "\n",
    "        #Insert or remove nodes based on interval position\n",
    "        for neighbor_id in neighbors:\n",
    "            edge_edit(A, start, neighbor_id, interval_points)\n",
    "            graph_search(A,neighbor_id,interval_points)\n",
    "            \n",
    "        return\n",
    "\n",
    "\n",
    "        "
   ]
  },
  {
   "cell_type": "code",
   "execution_count": null,
   "metadata": {},
   "outputs": [],
   "source": [
    "min_elevation, max_elevation = min(node_points[:,2]), max(node_points[:,2])\n",
    "node_differences = np.sort(np.diff(np.sort(node_points[:,2]))) #Sorted list of height difference bettwen all nodes\n",
    "\n",
    "#Number of level sets for reeb graph\n",
    "num_intervals = 30\n",
    "interval_width = (max_elevation-min_elevation)/(num_intervals-1)\n",
    "low, high = min_elevation - (interval_width/2), max_elevation + (interval_width/2)\n",
    "\n",
    "#Centers the minimum and maximum nodes at the min and max intervals\n",
    "interval_bound = [[low + interval_width*pos, low + interval_width*(pos+1)] for pos in range(num_intervals)]\n",
    "interval_points = np.array([low + interval_width*pos for pos in range(num_intervals+1)])"
   ]
  },
  {
   "cell_type": "code",
   "execution_count": 147,
   "metadata": {},
   "outputs": [],
   "source": [
    "G = nx.Graph()\n",
    "G.add_edges_from(node_connectivity)\n",
    "\n",
    "node_attributes = {node_id : {'Position' : node_points[node_id,:], 'Visted' : 0, 'Merged':[],'Inserted':[]} for node_id in list(G.nodes)}\n",
    "nx.set_node_attributes(G,node_attributes)\n",
    "\n"
   ]
  },
  {
   "cell_type": "code",
   "execution_count": null,
   "metadata": {},
   "outputs": [],
   "source": []
  }
 ]
}