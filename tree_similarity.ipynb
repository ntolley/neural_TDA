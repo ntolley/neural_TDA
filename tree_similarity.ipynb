{
 "nbformat": 4,
 "nbformat_minor": 2,
 "metadata": {
  "language_info": {
   "name": "python",
   "codemirror_mode": {
    "name": "ipython",
    "version": 3
   },
   "version": "3.7.4-final"
  },
  "orig_nbformat": 2,
  "file_extension": ".py",
  "mimetype": "text/x-python",
  "name": "python",
  "npconvert_exporter": "python",
  "pygments_lexer": "ipython3",
  "version": 3,
  "kernelspec": {
   "name": "python3",
   "display_name": "Python 3"
  }
 },
 "cells": [
  {
   "cell_type": "markdown",
   "metadata": {},
   "source": [
    "# Reeb Graph Matching\n",
    "#### Implementing 'Topology Matching for Fully Automatic Similarity Estimation of 3D Shapes'\n",
    "#### http://graphics.stanford.edu/courses/cs468-08-fall/pdf/Hilaga01.pdf\n",
    "#### (Hilaga et al., 2001)"
   ]
  },
  {
   "cell_type": "code",
   "execution_count": 1,
   "metadata": {},
   "outputs": [],
   "source": [
    "import numpy as np\n",
    "import os\n",
    "from os.path import isfile, join\n",
    "from os import listdir\n",
    "from mpl_toolkits import mplot3d\n",
    "import matplotlib.pyplot as plt\n",
    "import seaborn as sns\n",
    "import pandas as pd\n",
    "import csd_functions\n",
    "import scipy\n",
    "import networkx as nx\n",
    "sns.set()\n",
    ""
   ]
  },
  {
   "cell_type": "markdown",
   "metadata": {},
   "source": [
    "Load tree data"
   ]
  },
  {
   "cell_type": "code",
   "execution_count": 2,
   "metadata": {},
   "outputs": [],
   "source": [
    "prefix = 'input_strength032320'\n",
    "node_points, node_connectivity, node_color = csd_functions.load_tree(prefix)"
   ]
  },
  {
   "cell_type": "markdown",
   "metadata": {},
   "source": [
    "Store graph in networkx Object"
   ]
  },
  {
   "cell_type": "code",
   "execution_count": 3,
   "metadata": {},
   "outputs": [],
   "source": [
    "G = nx.Graph()\n",
    "G.add_edges_from(node_connectivity)\n",
    "\n",
    "node_attributes = {node_id : {'Position' : node_points[node_id,:], 'Visited' : 0, 'Merged':[],'Inserted':[]} for node_id in list(G.nodes)}\n",
    "nx.set_node_attributes(G,node_attributes)\n",
    "\n",
    "#Make a copy for comparison\n",
    "A = G.copy()\n",
    "\n",
    ""
   ]
  },
  {
   "cell_type": "markdown",
   "metadata": {},
   "source": [
    "Compute multiresoluion reeb graph"
   ]
  },
  {
   "cell_type": "code",
   "execution_count": 4,
   "metadata": {
    "tags": [
     "outputPrepend"
    ]
   },
   "outputs": [],
   "source": [
    "#Number of level sets for reeb graph\n",
    "interval_points = csd_functions.compute_intervals(node_points, 3)\n",
    "\n",
    "csd_functions.graph_search(G, 0, interval_points)"
   ]
  },
  {
   "cell_type": "code",
   "execution_count": 5,
   "metadata": {},
   "outputs": [],
   "source": [
    "%matplotlib qt\n",
    "csd_functions.plot_graph(G)\n",
    "csd_functions.plot_graph(A)\n",
    ""
   ]
  },
  {
   "cell_type": "code",
   "execution_count": 8,
   "metadata": {},
   "outputs": [],
   "source": [
    "image_names = ['g_'+ str(i) +'.png' for i in range(1,1359)]\n",
    "image_folder = 'D:/Jones_Lab/MRG_example/'\n",
    "save_dir = 'D:/Jones_Lab/MRG_scan.mp4'\n",
    "\n",
    "csd_functions.make_movie(image_folder, save_dir, image_names)\n",
    "\n",
    ""
   ]
  },
  {
   "cell_type": "code",
   "execution_count": null,
   "metadata": {},
   "outputs": [],
   "source": []
  }
 ]
}