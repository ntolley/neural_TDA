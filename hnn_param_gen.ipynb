{
 "nbformat": 4,
 "nbformat_minor": 2,
 "metadata": {
  "language_info": {
   "name": "python",
   "codemirror_mode": {
    "name": "ipython",
    "version": 3
   },
   "version": "3.7.4-final"
  },
  "orig_nbformat": 2,
  "file_extension": ".py",
  "mimetype": "text/x-python",
  "name": "python",
  "npconvert_exporter": "python",
  "pygments_lexer": "ipython3",
  "version": 3,
  "kernelspec": {
   "name": "python3",
   "display_name": "Python 3"
  }
 },
 "cells": [
  {
   "cell_type": "markdown",
   "metadata": {},
   "source": [
    "# HNN File Generator"
   ]
  },
  {
   "cell_type": "code",
   "execution_count": 1,
   "metadata": {},
   "outputs": [],
   "source": [
    "import fileio\n",
    "import paramrw\n",
    "import params_default\n",
    "import csd_functions\n",
    "import numpy as np"
   ]
  },
  {
   "cell_type": "code",
   "execution_count": 2,
   "metadata": {},
   "outputs": [],
   "source": [
    "gid_dict, p = paramrw.read('example_param.param') # Base file to make edits on"
   ]
  },
  {
   "cell_type": "markdown",
   "metadata": {},
   "source": [
    "### Manual paramater edits"
   ]
  },
  {
   "cell_type": "code",
   "execution_count": 3,
   "metadata": {},
   "outputs": [],
   "source": [
    "p['t_evprox_2'] = 0\n",
    "\n",
    "['prng_seedcore_input_prox': 13\n",
    "['prng_seedcore_input_dist': 14\n",
    "['prng_seedcore_extpois': 4\n",
    "['prng_seedcore_extgauss': 4\n",
    "['prng_seedcore_evprox_1': 4\n",
    "['prng_seedcore_evdist_1': 4\n",
    "['prng_seedcore_evprox_2':]= 4\n",
    "['prng_seedcore_evdist_2']: 0"
   ]
  },
  {
   "cell_type": "markdown",
   "metadata": {},
   "source": [
    "### Define parameters to sweep over"
   ]
  },
  {
   "cell_type": "code",
   "execution_count": 4,
   "metadata": {},
   "outputs": [],
   "source": [
    "file_prefix = 'test_sweep-' #prefix appended to each file name\n",
    "file_dir = 'D:/Jones_Lab/hnn_params/test_sweep/' #directory to store param files\n",
    "\n",
    "param_names = ['t_evprox_1','t_evdist_1'] #List dictionary keys to edit\n",
    "param_val = [np.linspace(10,150,3), np.linspace(10,150,3)]\n",
    "\n",
    "num_params = len(param_names)\n",
    "\n",
    "#Values stored under v1,v2; param suffix stored under s1,s2\n",
    "param_sets = [ [[s1,s2], [v1,v2]]  for s1,v1 in enumerate(param_val[0]) for s2,v2 in enumerate(param_val[1])]\n",
    "\n",
    "\n",
    "dict_set = [] #Store new dictionaries\n",
    "dict_names = [] #Stor file names\n",
    "\n",
    "for p_set in param_sets:\n",
    "    temp_dict = p.copy() #Copy template parameters\n",
    "\n",
    "    p_suffix = p_set[0]\n",
    "    p_val = p_set[1]\n",
    "\n",
    "    f_name = file_prefix\n",
    "    for idx in range(num_params):\n",
    "        if idx < num_params-1:\n",
    "            f_name = f_name + param_names[idx] + '_' + str(p_suffix[idx]) + '_' #Update file name with edited param names\n",
    "        else:\n",
    "            f_name = f_name + param_names[idx] + '_' + str(p_suffix[idx])\n",
    "\n",
    "        temp_dict[param_names[idx]] = p_val[idx]\n",
    "\n",
    "\n",
    "    #Edit dictionary names\n",
    "    temp_dict['sim_prefix'] = f_name\n",
    "    temp_dict['expmt_groups'] = '{' + f_name + '}'\n",
    "    \n",
    "    dict_set.append(temp_dict)\n",
    "    dict_names.append(f_name)\n",
    "\n",
    "    f_string= file_dir + f_name + '.param'\n",
    "    #Create files\n",
    "    paramrw.write(f_string,temp_dict,gid_dict)\n"
   ]
  },
  {
   "cell_type": "code",
   "execution_count": 5,
   "metadata": {},
   "outputs": [],
   "source": [
    "paramrw.write('test_param_write.param', p, gid_dict)"
   ]
  },
  {
   "cell_type": "markdown",
   "metadata": {},
   "source": []
  }
 ]
}